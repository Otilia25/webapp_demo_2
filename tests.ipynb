{
 "cells": [
  {
   "cell_type": "code",
   "execution_count": 1,
   "id": "357705fc",
   "metadata": {},
   "outputs": [],
   "source": [
    "import ee\n",
    "import geemap\n",
    "import geopandas as gpd\n",
    "import math"
   ]
  },
  {
   "cell_type": "code",
   "execution_count": 2,
   "id": "3877f51e",
   "metadata": {},
   "outputs": [
    {
     "data": {
      "text/html": [
       "\n",
       "            <style>\n",
       "                .geemap-dark {\n",
       "                    --jp-widgets-color: white;\n",
       "                    --jp-widgets-label-color: white;\n",
       "                    --jp-ui-font-color1: white;\n",
       "                    --jp-layout-color2: #454545;\n",
       "                    background-color: #383838;\n",
       "                }\n",
       "\n",
       "                .geemap-dark .jupyter-button {\n",
       "                    --jp-layout-color3: #383838;\n",
       "                }\n",
       "\n",
       "                .geemap-colab {\n",
       "                    background-color: var(--colab-primary-surface-color, white);\n",
       "                }\n",
       "\n",
       "                .geemap-colab .jupyter-button {\n",
       "                    --jp-layout-color3: var(--colab-primary-surface-color, white);\n",
       "                }\n",
       "            </style>\n",
       "            "
      ],
      "text/plain": [
       "<IPython.core.display.HTML object>"
      ]
     },
     "metadata": {},
     "output_type": "display_data"
    }
   ],
   "source": [
    "ee.Initialize()"
   ]
  },
  {
   "cell_type": "code",
   "execution_count": 3,
   "id": "a06ba063",
   "metadata": {},
   "outputs": [
    {
     "data": {
      "text/html": [
       "\n",
       "            <style>\n",
       "                .geemap-dark {\n",
       "                    --jp-widgets-color: white;\n",
       "                    --jp-widgets-label-color: white;\n",
       "                    --jp-ui-font-color1: white;\n",
       "                    --jp-layout-color2: #454545;\n",
       "                    background-color: #383838;\n",
       "                }\n",
       "\n",
       "                .geemap-dark .jupyter-button {\n",
       "                    --jp-layout-color3: #383838;\n",
       "                }\n",
       "\n",
       "                .geemap-colab {\n",
       "                    background-color: var(--colab-primary-surface-color, white);\n",
       "                }\n",
       "\n",
       "                .geemap-colab .jupyter-button {\n",
       "                    --jp-layout-color3: var(--colab-primary-surface-color, white);\n",
       "                }\n",
       "            </style>\n",
       "            "
      ],
      "text/plain": [
       "<IPython.core.display.HTML object>"
      ]
     },
     "metadata": {},
     "output_type": "display_data"
    }
   ],
   "source": [
    "aoi_gdf = gpd.read_file(r\"C:\\Users\\jedid\\Documents\\Projects\\GIS\\Luano\\Datasets\\zambia_aoi.gpkg\")\n",
    "aoi_ee = geemap.gdf_to_ee(aoi_gdf)"
   ]
  },
  {
   "cell_type": "code",
   "execution_count": 4,
   "id": "923d113b",
   "metadata": {},
   "outputs": [
    {
     "data": {
      "text/html": [
       "\n",
       "            <style>\n",
       "                .geemap-dark {\n",
       "                    --jp-widgets-color: white;\n",
       "                    --jp-widgets-label-color: white;\n",
       "                    --jp-ui-font-color1: white;\n",
       "                    --jp-layout-color2: #454545;\n",
       "                    background-color: #383838;\n",
       "                }\n",
       "\n",
       "                .geemap-dark .jupyter-button {\n",
       "                    --jp-layout-color3: #383838;\n",
       "                }\n",
       "\n",
       "                .geemap-colab {\n",
       "                    background-color: var(--colab-primary-surface-color, white);\n",
       "                }\n",
       "\n",
       "                .geemap-colab .jupyter-button {\n",
       "                    --jp-layout-color3: var(--colab-primary-surface-color, white);\n",
       "                }\n",
       "            </style>\n",
       "            "
      ],
      "text/plain": [
       "<IPython.core.display.HTML object>"
      ]
     },
     "metadata": {},
     "output_type": "display_data"
    }
   ],
   "source": [
    "# farms_gdf = gpd.read_file(r\"data/vector/ce_farms.gpkg\")\n",
    "# farms_gdf = farms_gdf[['farmer', 'crop', 'district', 'province', 'area_ha', 'geometry']]\n",
    "# aoi_gdf = farms_gdf[farms_gdf['farmer']=='ADM Farm']\n",
    "# aoi_ee = geemap.gdf_to_ee(aoi_gdf)"
   ]
  },
  {
   "cell_type": "code",
   "execution_count": 5,
   "id": "af903670",
   "metadata": {},
   "outputs": [
    {
     "data": {
      "text/html": [
       "\n",
       "            <style>\n",
       "                .geemap-dark {\n",
       "                    --jp-widgets-color: white;\n",
       "                    --jp-widgets-label-color: white;\n",
       "                    --jp-ui-font-color1: white;\n",
       "                    --jp-layout-color2: #454545;\n",
       "                    background-color: #383838;\n",
       "                }\n",
       "\n",
       "                .geemap-dark .jupyter-button {\n",
       "                    --jp-layout-color3: #383838;\n",
       "                }\n",
       "\n",
       "                .geemap-colab {\n",
       "                    background-color: var(--colab-primary-surface-color, white);\n",
       "                }\n",
       "\n",
       "                .geemap-colab .jupyter-button {\n",
       "                    --jp-layout-color3: var(--colab-primary-surface-color, white);\n",
       "                }\n",
       "            </style>\n",
       "            "
      ],
      "text/plain": [
       "<IPython.core.display.HTML object>"
      ]
     },
     "metadata": {},
     "output_type": "display_data"
    }
   ],
   "source": [
    "def get_soil_dataset(selected_aoi_gdf):\n",
    "    if selected_aoi_gdf is None:\n",
    "        soil_datasets = [\n",
    "            \"Annual Rainfall (mm)\", \"Texture Class\", \"pH\", \"Clay Content (%)\", \"Sand Content (%)\",\n",
    "            \"Stone Content (%)\", \"Silt Content (%)\", \"Carbon Organic (g/kg)\", \"Carbon Total (g/kg)\",\n",
    "            \"Nitrogen Total (g/kg)\", \"Potassium Extractable (ppm)\", \"Phosphorus Extractable (ppm)\",\n",
    "            \"Magnesium Extractable (ppm)\", \"Iron Extractable (ppm)\", \"Zinc Extractable (ppm)\",\n",
    "            \"Calcium Extractable (ppm)\", \"Sulphur Extractable (ppm)\", \"Aluminium Extractable (ppm)\",\n",
    "            \"Effective Cation Exchange Capacity (cmol(+)/kg)\"\n",
    "        ]\n",
    "        return soil_datasets\n",
    "    else:\n",
    "        aoi_ee = geemap.gdf_to_ee(selected_aoi_gdf)\n",
    "        soil_datasets = {\n",
    "            \"Annual Rainfall (mm)\": get_avg_rainfall(2019, 2024, aoi_ee),\n",
    "            \"Texture Class\": ee.Image(\"ISDASOIL/Africa/v1/texture_class\").clip(aoi_ee).select(0),\n",
    "            \"pH\": ee.Image(\"ISDASOIL/Africa/v1/ph\").clip(aoi_ee).select(0).divide(10),\n",
    "            \"Clay Content (%)\": ee.Image(\"ISDASOIL/Africa/v1/clay_content\").clip(aoi_ee).select(0),\n",
    "            \"Sand Content (%)\": ee.Image(\"ISDASOIL/Africa/v1/sand_content\").clip(aoi_ee).select(0),\n",
    "            \"Stone Content (%)\": ee.Image(\"ISDASOIL/Africa/v1/stone_content\").clip(aoi_ee).select(0).divide(10).exp().subtract(1),\n",
    "            \"Silt Content (%)\": ee.Image(\"ISDASOIL/Africa/v1/silt_content\").clip(aoi_ee).select(0).divide(10).exp().subtract(1),\n",
    "            \"Carbon Organic (g/kg)\": ee.Image(\"ISDASOIL/Africa/v1/carbon_organic\").clip(aoi_ee).select(0).divide(10).exp().subtract(1),\n",
    "            \"Carbon Total (g/kg)\": ee.Image(\"ISDASOIL/Africa/v1/carbon_total\").clip(aoi_ee).select(0).divide(10).exp().subtract(1),\n",
    "            \"Nitrogen Total (g/kg)\": ee.Image(\"ISDASOIL/Africa/v1/nitrogen_total\").clip(aoi_ee).select(0).divide(100).exp().subtract(1),\n",
    "            \"Potassium Extractable (ppm)\": ee.Image(\"ISDASOIL/Africa/v1/potassium_extractable\").clip(aoi_ee).select(0).divide(10).exp().subtract(1),\n",
    "            \"Phosphorus Extractable (ppm)\": ee.Image(\"ISDASOIL/Africa/v1/phosphorus_extractable\").clip(aoi_ee).select(0).divide(10).exp().subtract(1),\n",
    "            \"Magnesium Extractable (ppm)\": ee.Image(\"ISDASOIL/Africa/v1/magnesium_extractable\").clip(aoi_ee).select(0).divide(10).exp().subtract(1),\n",
    "            \"Iron Extractable (ppm)\": ee.Image(\"ISDASOIL/Africa/v1/iron_extractable\").clip(aoi_ee).select(0).divide(10).exp().subtract(1),\n",
    "            \"Zinc Extractable (ppm)\": ee.Image(\"ISDASOIL/Africa/v1/zinc_extractable\").clip(aoi_ee).select(0).divide(10).exp().subtract(1),\n",
    "            \"Calcium Extractable (ppm)\": ee.Image(\"ISDASOIL/Africa/v1/calcium_extractable\").clip(aoi_ee).select(0).divide(10).exp().subtract(1),\n",
    "            \"Sulphur Extractable (ppm)\": ee.Image(\"ISDASOIL/Africa/v1/sulphur_extractable\").clip(aoi_ee).select(0).divide(10).exp().subtract(1),\n",
    "            \"Aluminium Extractable (ppm)\": ee.Image(\"ISDASOIL/Africa/v1/aluminium_extractable\").clip(aoi_ee).select(0).divide(10).exp().subtract(1),\n",
    "            \"Effective Cation Exchange Capacity (cmol(+)/kg)\": ee.Image(\"ISDASOIL/Africa/v1/cation_exchange_capacity\").clip(aoi_ee).select(0).divide(10).exp().subtract(1)\n",
    "        }\n",
    "        return soil_datasets\n",
    "\n",
    "def get_soil_dataset_visparams(selected_dataset_name, selected_dataset):\n",
    "    if selected_dataset_name == 'Texture Class':\n",
    "        class_colors = {\n",
    "                1: ['Clay', \"#d5c36b\"],\n",
    "                2: ['Silty Clay', '#b96947'],\n",
    "                3: ['Sandy Clay', '#9d3706'],\n",
    "                4: ['Clay Loam', '#ae868f'],\n",
    "                5: ['Silty Clay Loam', '#f86714'],\n",
    "                6: ['Sandy Clay Loam', \"#46d143\"],\n",
    "                7: ['Loam', '#368f20'],\n",
    "                8: ['Silt Loam', '#3e5a14'],\n",
    "                9: ['Sandy Loam', \"#ffd557\"],\n",
    "                10: ['Silt', '#fff72e'],\n",
    "                11: ['Loamy Sand', '#ff5a9d'],\n",
    "                12: ['Sand', '#ff005b']\n",
    "            }\n",
    "        texture_values = sorted(geemap.image_value_list(selected_dataset).getInfo())\n",
    "        texture_values = [int(value) for value in texture_values]\n",
    "        texture_values = sorted(texture_values)\n",
    "\n",
    "        texture_names = [class_colors[int(x)][0] for x in texture_values]\n",
    "        texture_palette = [class_colors[int(x)][1] for x in texture_values]\n",
    "        visparams = {\n",
    "            'min': int(texture_values[0]), \n",
    "            'max': int(texture_values[-1]), \n",
    "            'palette': texture_palette\n",
    "        }\n",
    "        return visparams, texture_names, texture_palette\n",
    "    else:\n",
    "        # min = geemap.image_min_value(selected_dataset, aoi_ee, 30)\n",
    "        # max = geemap.image_max_value(selected_dataset, aoi_ee, 30)\n",
    "        min = math.floor(get_datasets_min_max(selected_dataset_name)[0] * 100)/100.0\n",
    "        max = math.ceil(get_datasets_min_max(selected_dataset_name)[1] * 100)/100.0\n",
    "        visparams = {\n",
    "                'min': min, #min.getInfo()['mean_0_20'], \n",
    "                'max': max, #max.getInfo()['mean_0_20'], \n",
    "                'palette': [\"#000004\", \"#0C0927\", \"#231151\", \"#410F75\",\n",
    "                            \"#5F187F\", \"#7B2382\",\"#982D80\", \"#B63679\",\n",
    "                            \"#D3436E\", \"#EB5760\", \"#F8765C\", \"#FD9969\",\n",
    "                            \"#FEBA80\", \"#FDDC9E\", \"#FCFDBF\"]\n",
    "            }\n",
    "        return visparams\n",
    "\n",
    "def get_selected_datasets(selected_dataset_names_list, aoi_gdf):\n",
    "    selected_datasets = []\n",
    "    for selected_dataset_name in selected_dataset_names_list:\n",
    "        selected_dataset = get_soil_dataset(aoi_gdf)[selected_dataset_name]\n",
    "        selected_datasets.append(selected_dataset)\n",
    "    return selected_datasets\n",
    "\n",
    "def get_datasets_min_max(selected_dataset_name):\n",
    "    dataset_min_max = {\n",
    "        \"Annual Rainfall (mm)\": (0, 2000),\n",
    "        'pH': (4.6, 7.6),\n",
    "        'Clay Content (%)': (3.0, 53.0),\n",
    "        'Sand Content (%)': (19.0, 90.0),\n",
    "        'Stone Content (%)': (0.0, 5.0),\n",
    "        'Silt Content (%)': (0.49182, 26.0),\n",
    "        'Carbon Organic (g/kg)': (2.66929, 16.0),\n",
    "        'Carbon Total (g/kg)': (2.66929, 48.402449),\n",
    "        'Nitrogen Total (g/kg)': (0.28402, 1.7),\n",
    "        'Potassium Extractable (ppm)': (10.023176, 400.0),\n",
    "        'Phosphorus Extractable (ppm)': (3.05519, 20.0),\n",
    "        'Magnesium Extractable (ppm)': (8.97418, 900.0),\n",
    "        'Iron Extractable (ppm)': (30.0, 150.0),\n",
    "        'Zinc Extractable (ppm)': (0.349858, 5.5),\n",
    "        'Calcium Extractable (ppm)': (23.53253, 3050.0),\n",
    "        'Sulphur Extractable (ppm)': (1.013752, 30.0),\n",
    "        'Aluminium Extractable (ppm)': (17.17414, 300.0),\n",
    "        'Effective Cation Exchange Capacity (cmol(+)/kg)': (1.22554, 35.0)\n",
    "        }\n",
    "    selected_dataset_min_max = dataset_min_max[selected_dataset_name]\n",
    "    return selected_dataset_min_max\n",
    "\n",
    "def get_filtered_dataset(selected_dataset_name, aoi_gdf, min_value, max_value, texture_classes):\n",
    "    selected_dataset = get_soil_dataset(aoi_gdf)[selected_dataset_name]\n",
    "\n",
    "    if selected_dataset_name == 'Texture Class':\n",
    "        texture_values = {\n",
    "                'Clay': 1, 'Silty Clay': 2, 'Sandy Clay': 3, 'Clay Loam': 4,\n",
    "                'Silty Clay Loam': 5, 'Sandy Clay Loam': 6, 'Loam': 7, 'Silt Loam': 8,\n",
    "                'Sandy Loam': 9, 'Silt': 10, 'Loamy Sand': 11, 'Sand': 12\n",
    "            }\n",
    "\n",
    "        mask = ee.Image(0)\n",
    "\n",
    "        for selected_texture in texture_classes:\n",
    "            texture_value = texture_values[selected_texture]\n",
    "            texture_mask = selected_dataset.eq(texture_value)\n",
    "            mask = mask.Or(texture_mask)\n",
    "\n",
    "        filtered_dataset = selected_dataset.updateMask(mask)\n",
    "        return filtered_dataset\n",
    "    else:\n",
    "        mask = selected_dataset.gte(min_value).And(selected_dataset.lte(max_value))\n",
    "        filtered_dataset = selected_dataset.updateMask(mask)\n",
    "\n",
    "        return filtered_dataset\n",
    "\n",
    "def get_overlaid_dataset(selected_datasets, aoi_gdf):\n",
    "    if len(selected_datasets) > 1:\n",
    "        with st.spinner(f\"Analysing soil properties...\", show_time=True):\n",
    "            aoi_ee = geemap.gdf_to_ee(aoi_gdf)\n",
    "            overlaid_dataset = ee.Image(0).clip(aoi_ee)\n",
    "            for dataset in selected_datasets:\n",
    "                if dataset == 'Texture Class':\n",
    "                    textures = selected_datasets[dataset]\n",
    "                    filtered_dataset = get_filtered_dataset(dataset, aoi_gdf, None, None, textures)\n",
    "\n",
    "                else:\n",
    "                    min = selected_datasets[dataset][0]\n",
    "                    max = selected_datasets[dataset][1]\n",
    "                    filtered_dataset = get_filtered_dataset(dataset, aoi_gdf, min, max, None)\n",
    "\n",
    "                binary_dataset = filtered_dataset.mask().gt(0)\n",
    "\n",
    "                overlaid_dataset = overlaid_dataset.add(binary_dataset)\n",
    "\n",
    "            overlaid_dataset = overlaid_dataset.updateMask(overlaid_dataset.gt(0))\n",
    "            return overlaid_dataset\n",
    "    else:\n",
    "        dataset = selected_datasets\n",
    "        name = list(dataset.keys())[0]\n",
    "        if name == 'Texture Class':\n",
    "            textures = dataset[list(dataset.keys())[0]]\n",
    "            filtered_dataset = get_filtered_dataset(name, aoi_gdf, None, None, textures)\n",
    "\n",
    "        else:\n",
    "            min = dataset[list(dataset.keys())[0]][0]\n",
    "            max = dataset[list(dataset.keys())[0]][1]\n",
    "            filtered_dataset = get_filtered_dataset(name, aoi_gdf, min, max, None)\n",
    "        return filtered_dataset\n",
    "\n",
    "# Get images for rainy season (Nov to Mar) only\n",
    "def get_rain_season_images(rainfall_dataset, start_year, end_year):\n",
    "    # Create empty image collection\n",
    "    merged_image_collection = ee.ImageCollection([])\n",
    "    \n",
    "    for year in range(start_year, end_year):\n",
    "        # Nov to Dec of current year\n",
    "        start1 = ee.Date(f'{year}-11-01')\n",
    "        end1 = ee.Date(f'{year}-12-31')\n",
    "        season_part1 = rainfall_dataset.filterDate(start1, end1)\n",
    "\n",
    "        # Jan to Mar of following year\n",
    "        start2 = ee.Date(f'{year + 1}-01-01')\n",
    "        end2 = ee.Date(f'{year + 1}-03-31')\n",
    "        season_part2 = rainfall_dataset.filterDate(start2, end2)\n",
    "\n",
    "        # Merge image collection\n",
    "        merged_year_collection = season_part1.merge(season_part2)\n",
    "        merged_image_collection = merged_image_collection.merge(merged_year_collection)\n",
    "\n",
    "    return merged_image_collection\n",
    "\n",
    "def get_avg_rainfall(start_year, end_year, aoi_ee):\n",
    "    \n",
    "    rainfall_dataset = ee.ImageCollection(\"UCSB-CHG/CHIRPS/PENTAD\") \\\n",
    "            .select('precipitation') \n",
    "    \n",
    "    no_years = end_year - start_year\n",
    "\n",
    "    # Get images for rainfal season between selected dates\n",
    "    seasonal_rainfall_dataset = get_rain_season_images(rainfall_dataset, start_year, end_year)\n",
    "\n",
    "    # Clip images to AOI and compute the mean\n",
    "    avg_rainfall = seasonal_rainfall_dataset.sum() \\\n",
    "                    .divide(no_years) \\\n",
    "                    .clip(aoi_ee)\n",
    "\n",
    "    return avg_rainfall"
   ]
  },
  {
   "cell_type": "code",
   "execution_count": 6,
   "id": "0c037ad1",
   "metadata": {},
   "outputs": [
    {
     "data": {
      "text/html": [
       "\n",
       "            <style>\n",
       "                .geemap-dark {\n",
       "                    --jp-widgets-color: white;\n",
       "                    --jp-widgets-label-color: white;\n",
       "                    --jp-ui-font-color1: white;\n",
       "                    --jp-layout-color2: #454545;\n",
       "                    background-color: #383838;\n",
       "                }\n",
       "\n",
       "                .geemap-dark .jupyter-button {\n",
       "                    --jp-layout-color3: #383838;\n",
       "                }\n",
       "\n",
       "                .geemap-colab {\n",
       "                    background-color: var(--colab-primary-surface-color, white);\n",
       "                }\n",
       "\n",
       "                .geemap-colab .jupyter-button {\n",
       "                    --jp-layout-color3: var(--colab-primary-surface-color, white);\n",
       "                }\n",
       "            </style>\n",
       "            "
      ],
      "text/plain": [
       "<IPython.core.display.HTML object>"
      ]
     },
     "metadata": {},
     "output_type": "display_data"
    }
   ],
   "source": [
    "selected_dataset_name = \"Annual Rainfall (mm)\"\n",
    "min_value = 400\n",
    "max_value = 1600\n",
    "texture_class = \"Clay Loam\""
   ]
  },
  {
   "cell_type": "code",
   "execution_count": 7,
   "id": "7f10e0fe",
   "metadata": {},
   "outputs": [
    {
     "data": {
      "text/html": [
       "\n",
       "            <style>\n",
       "                .geemap-dark {\n",
       "                    --jp-widgets-color: white;\n",
       "                    --jp-widgets-label-color: white;\n",
       "                    --jp-ui-font-color1: white;\n",
       "                    --jp-layout-color2: #454545;\n",
       "                    background-color: #383838;\n",
       "                }\n",
       "\n",
       "                .geemap-dark .jupyter-button {\n",
       "                    --jp-layout-color3: #383838;\n",
       "                }\n",
       "\n",
       "                .geemap-colab {\n",
       "                    background-color: var(--colab-primary-surface-color, white);\n",
       "                }\n",
       "\n",
       "                .geemap-colab .jupyter-button {\n",
       "                    --jp-layout-color3: var(--colab-primary-surface-color, white);\n",
       "                }\n",
       "            </style>\n",
       "            "
      ],
      "text/plain": [
       "<IPython.core.display.HTML object>"
      ]
     },
     "metadata": {},
     "output_type": "display_data"
    }
   ],
   "source": [
    "selected_dataset = get_soil_dataset(aoi_gdf)[selected_dataset_name]"
   ]
  },
  {
   "cell_type": "code",
   "execution_count": 8,
   "id": "c5fcac08",
   "metadata": {},
   "outputs": [
    {
     "data": {
      "text/html": [
       "\n",
       "            <style>\n",
       "                .geemap-dark {\n",
       "                    --jp-widgets-color: white;\n",
       "                    --jp-widgets-label-color: white;\n",
       "                    --jp-ui-font-color1: white;\n",
       "                    --jp-layout-color2: #454545;\n",
       "                    background-color: #383838;\n",
       "                }\n",
       "\n",
       "                .geemap-dark .jupyter-button {\n",
       "                    --jp-layout-color3: #383838;\n",
       "                }\n",
       "\n",
       "                .geemap-colab {\n",
       "                    background-color: var(--colab-primary-surface-color, white);\n",
       "                }\n",
       "\n",
       "                .geemap-colab .jupyter-button {\n",
       "                    --jp-layout-color3: var(--colab-primary-surface-color, white);\n",
       "                }\n",
       "            </style>\n",
       "            "
      ],
      "text/plain": [
       "<IPython.core.display.HTML object>"
      ]
     },
     "metadata": {},
     "output_type": "display_data"
    }
   ],
   "source": [
    "filtered_dataset = get_filtered_dataset(selected_dataset_name, aoi_gdf, min_value, max_value, texture_class)"
   ]
  },
  {
   "cell_type": "code",
   "execution_count": 9,
   "id": "23909b54",
   "metadata": {},
   "outputs": [
    {
     "data": {
      "text/html": [
       "\n",
       "            <style>\n",
       "                .geemap-dark {\n",
       "                    --jp-widgets-color: white;\n",
       "                    --jp-widgets-label-color: white;\n",
       "                    --jp-ui-font-color1: white;\n",
       "                    --jp-layout-color2: #454545;\n",
       "                    background-color: #383838;\n",
       "                }\n",
       "\n",
       "                .geemap-dark .jupyter-button {\n",
       "                    --jp-layout-color3: #383838;\n",
       "                }\n",
       "\n",
       "                .geemap-colab {\n",
       "                    background-color: var(--colab-primary-surface-color, white);\n",
       "                }\n",
       "\n",
       "                .geemap-colab .jupyter-button {\n",
       "                    --jp-layout-color3: var(--colab-primary-surface-color, white);\n",
       "                }\n",
       "            </style>\n",
       "            "
      ],
      "text/plain": [
       "<IPython.core.display.HTML object>"
      ]
     },
     "metadata": {},
     "output_type": "display_data"
    }
   ],
   "source": [
    "# selected_datasets = [1, 2, 3, 4]\n",
    "# palette = [\"#009100\", \"#00ff00\", \"#FBFF00\", \"#ff0000\", \"#770000\"]\n",
    "# names = [5, 4, 3, 2, 1]\n",
    "# overlaid_palette = palette[:len(selected_datasets)]\n",
    "# overlaid_names = [x + 1 for x in range(len(selected_datasets))]\n",
    "# overlaid_visparams = {'min': 1, 'max': len(selected_datasets), 'palette': overlaid_palette}\n",
    "# print(f\"{overlaid_names}, {overlaid_palette}\")"
   ]
  },
  {
   "cell_type": "code",
   "execution_count": 10,
   "id": "7f140045",
   "metadata": {},
   "outputs": [
    {
     "data": {
      "text/html": [
       "\n",
       "            <style>\n",
       "                .geemap-dark {\n",
       "                    --jp-widgets-color: white;\n",
       "                    --jp-widgets-label-color: white;\n",
       "                    --jp-ui-font-color1: white;\n",
       "                    --jp-layout-color2: #454545;\n",
       "                    background-color: #383838;\n",
       "                }\n",
       "\n",
       "                .geemap-dark .jupyter-button {\n",
       "                    --jp-layout-color3: #383838;\n",
       "                }\n",
       "\n",
       "                .geemap-colab {\n",
       "                    background-color: var(--colab-primary-surface-color, white);\n",
       "                }\n",
       "\n",
       "                .geemap-colab .jupyter-button {\n",
       "                    --jp-layout-color3: var(--colab-primary-surface-color, white);\n",
       "                }\n",
       "            </style>\n",
       "            "
      ],
      "text/plain": [
       "<IPython.core.display.HTML object>"
      ]
     },
     "metadata": {},
     "output_type": "display_data"
    }
   ],
   "source": [
    "if selected_dataset_name == 'Texture Class':\n",
    "    visparams2, texture_names, texture_palette = get_soil_dataset_visparams(selected_dataset_name, selected_dataset, aoi_gdf)\n",
    "else:\n",
    "    visparams = get_soil_dataset_visparams(selected_dataset_name, selected_dataset)"
   ]
  },
  {
   "cell_type": "code",
   "execution_count": 11,
   "id": "81e6049e",
   "metadata": {},
   "outputs": [
    {
     "data": {
      "text/html": [
       "\n",
       "            <style>\n",
       "                .geemap-dark {\n",
       "                    --jp-widgets-color: white;\n",
       "                    --jp-widgets-label-color: white;\n",
       "                    --jp-ui-font-color1: white;\n",
       "                    --jp-layout-color2: #454545;\n",
       "                    background-color: #383838;\n",
       "                }\n",
       "\n",
       "                .geemap-dark .jupyter-button {\n",
       "                    --jp-layout-color3: #383838;\n",
       "                }\n",
       "\n",
       "                .geemap-colab {\n",
       "                    background-color: var(--colab-primary-surface-color, white);\n",
       "                }\n",
       "\n",
       "                .geemap-colab .jupyter-button {\n",
       "                    --jp-layout-color3: var(--colab-primary-surface-color, white);\n",
       "                }\n",
       "            </style>\n",
       "            "
      ],
      "text/plain": [
       "<IPython.core.display.HTML object>"
      ]
     },
     "metadata": {},
     "output_type": "display_data"
    }
   ],
   "source": [
    "if selected_dataset_name != 'Texture Class':\n",
    "    visparams2 = {\n",
    "            'min': min_value, #min.getInfo()['mean_0_20'], \n",
    "            'max': max_value, #max.getInfo()['mean_0_20'], \n",
    "            'palette': ['red', 'white', 'green']\n",
    "        }"
   ]
  },
  {
   "cell_type": "code",
   "execution_count": 12,
   "id": "aded5b16",
   "metadata": {},
   "outputs": [
    {
     "data": {
      "text/html": [
       "\n",
       "            <style>\n",
       "                .geemap-dark {\n",
       "                    --jp-widgets-color: white;\n",
       "                    --jp-widgets-label-color: white;\n",
       "                    --jp-ui-font-color1: white;\n",
       "                    --jp-layout-color2: #454545;\n",
       "                    background-color: #383838;\n",
       "                }\n",
       "\n",
       "                .geemap-dark .jupyter-button {\n",
       "                    --jp-layout-color3: #383838;\n",
       "                }\n",
       "\n",
       "                .geemap-colab {\n",
       "                    background-color: var(--colab-primary-surface-color, white);\n",
       "                }\n",
       "\n",
       "                .geemap-colab .jupyter-button {\n",
       "                    --jp-layout-color3: var(--colab-primary-surface-color, white);\n",
       "                }\n",
       "            </style>\n",
       "            "
      ],
      "text/plain": [
       "<IPython.core.display.HTML object>"
      ]
     },
     "metadata": {},
     "output_type": "display_data"
    },
    {
     "data": {
      "application/vnd.jupyter.widget-view+json": {
       "model_id": "863072afd7394c35bf9ea106dacf7852",
       "version_major": 2,
       "version_minor": 0
      },
      "text/plain": [
       "Map(center=[0, 0], controls=(WidgetControl(options=['position', 'transparent_bg'], widget=SearchDataGUI(childr…"
      ]
     },
     "execution_count": 12,
     "metadata": {},
     "output_type": "execute_result"
    }
   ],
   "source": [
    "m = geemap.Map(basemap='CartoDB.DarkMatter')\n",
    "m.zoom_to_gdf(aoi_gdf)\n",
    "m.add_layer(selected_dataset, vis_params=visparams2, name=selected_dataset_name)\n",
    "m.add_layer(filtered_dataset, vis_params=visparams2, name=f\"F-{selected_dataset_name}\")\n",
    "if selected_dataset_name == 'Texture Class':\n",
    "    m.add_legend(\n",
    "                labels=texture_names,\n",
    "                colors=texture_palette,\n",
    "                position=\"bottomright\",\n",
    "                title= f\"Soil {selected_dataset_name}\",\n",
    "                draggable=True\n",
    "                )\n",
    "else:\n",
    "    m.add_colorbar(visparams2, label=selected_dataset_name, orientation='vertical')\n",
    "m"
   ]
  }
 ],
 "metadata": {
  "kernelspec": {
   "display_name": "st-env",
   "language": "python",
   "name": "python3"
  },
  "language_info": {
   "codemirror_mode": {
    "name": "ipython",
    "version": 3
   },
   "file_extension": ".py",
   "mimetype": "text/x-python",
   "name": "python",
   "nbconvert_exporter": "python",
   "pygments_lexer": "ipython3",
   "version": "3.9.23"
  }
 },
 "nbformat": 4,
 "nbformat_minor": 5
}
